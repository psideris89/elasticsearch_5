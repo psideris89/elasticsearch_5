{
 "cells": [
  {
   "cell_type": "markdown",
   "metadata": {
    "collapsed": true,
    "deletable": true,
    "editable": true
   },
   "source": [
    "# Start default Node\n"
   ]
  },
  {
   "cell_type": "code",
   "execution_count": 24,
   "metadata": {
    "collapsed": true,
    "deletable": true,
    "editable": true
   },
   "outputs": [],
   "source": [
    "./elasticsearch"
   ]
  },
  {
   "cell_type": "code",
   "execution_count": null,
   "metadata": {
    "collapsed": true,
    "deletable": true,
    "editable": true
   },
   "outputs": [],
   "source": [
    "{\n",
    "  \"name\" : \"nXNCqGl\",\n",
    "  \"cluster_name\" : \"elasticsearch\",\n",
    "  \"cluster_uuid\" : \"hIMiDMFCRp28NQd8UdiAYw\",\n",
    "  \"version\" : {\n",
    "    \"number\" : \"5.3.1\",\n",
    "    \"build_hash\" : \"5f9cf58\",\n",
    "    \"build_date\" : \"2017-04-17T15:52:53.846Z\",\n",
    "    \"build_snapshot\" : false,\n",
    "    \"lucene_version\" : \"6.4.2\"\n",
    "  },\n",
    "  \"tagline\" : \"You Know, for Search\"\n",
    "}"
   ]
  },
  {
   "cell_type": "markdown",
   "metadata": {
    "deletable": true,
    "editable": true
   },
   "source": [
    "# Start Node with parameters"
   ]
  },
  {
   "cell_type": "code",
   "execution_count": 25,
   "metadata": {
    "collapsed": true,
    "deletable": true,
    "editable": true
   },
   "outputs": [],
   "source": [
    "./elasticsearch -Ecluster.name=my_cluster_name -Enode.name=my_node_name"
   ]
  },
  {
   "cell_type": "code",
   "execution_count": null,
   "metadata": {
    "collapsed": true,
    "deletable": true,
    "editable": true
   },
   "outputs": [],
   "source": [
    "{\n",
    "  \"name\" : \"my_node_name\",\n",
    "  \"cluster_name\" : \"my_cluster_name\",\n",
    "  \"cluster_uuid\" : \"hIMiDMFCRp28NQd8UdiAYw\",\n",
    "  \"version\" : {\n",
    "    \"number\" : \"5.3.1\",\n",
    "    \"build_hash\" : \"5f9cf58\",\n",
    "    \"build_date\" : \"2017-04-17T15:52:53.846Z\",\n",
    "    \"build_snapshot\" : false,\n",
    "    \"lucene_version\" : \"6.4.2\"\n",
    "  },\n",
    "  \"tagline\" : \"You Know, for Search\"\n",
    "}"
   ]
  },
  {
   "cell_type": "markdown",
   "metadata": {
    "deletable": true,
    "editable": true
   },
   "source": [
    "## You can have multiple nodes in the same cluster.\n",
    "\n",
    "Change the port (e.g. 9201) and run the script. If you have already defined the name of the cluster you have to use the same name otherwise it will fail to create the node."
   ]
  },
  {
   "cell_type": "markdown",
   "metadata": {
    "deletable": true,
    "editable": true
   },
   "source": [
    "## Get Cluster Health"
   ]
  },
  {
   "cell_type": "code",
   "execution_count": 30,
   "metadata": {
    "collapsed": false,
    "deletable": true,
    "editable": true
   },
   "outputs": [],
   "source": [
    "http://localhost:9200/_cluster/health?pretty\n",
    "\n",
    "curl -XGET 'localhost:9200/_cat/health?v&pretty' "
   ]
  },
  {
   "cell_type": "markdown",
   "metadata": {
    "deletable": true,
    "editable": true
   },
   "source": [
    "## Get Nodes"
   ]
  },
  {
   "cell_type": "code",
   "execution_count": 28,
   "metadata": {
    "collapsed": true,
    "deletable": true,
    "editable": true
   },
   "outputs": [],
   "source": [
    "curl -XGET 'localhost:9200/_cat/nodes?v&pretty'"
   ]
  },
  {
   "cell_type": "markdown",
   "metadata": {
    "deletable": true,
    "editable": true
   },
   "source": [
    "## Get Indices"
   ]
  },
  {
   "cell_type": "code",
   "execution_count": 31,
   "metadata": {
    "collapsed": true,
    "deletable": true,
    "editable": true
   },
   "outputs": [],
   "source": [
    "curl -XGET 'localhost:9200/_cat/indices?v&pretty'"
   ]
  },
  {
   "cell_type": "markdown",
   "metadata": {
    "deletable": true,
    "editable": true
   },
   "source": [
    "## Create/Delete Index"
   ]
  },
  {
   "cell_type": "code",
   "execution_count": 35,
   "metadata": {
    "collapsed": true,
    "deletable": true,
    "editable": true
   },
   "outputs": [],
   "source": [
    "curl -XPUT 'localhost:9200/index_name?pretty&pretty'\n",
    "\n",
    "curl -XDELETE 'localhost:9200/index_name?pretty&pretty'"
   ]
  },
  {
   "cell_type": "markdown",
   "metadata": {
    "deletable": true,
    "editable": true
   },
   "source": [
    "## Add/Delete Data to Index"
   ]
  },
  {
   "cell_type": "code",
   "execution_count": 43,
   "metadata": {
    "collapsed": false,
    "deletable": true,
    "editable": true
   },
   "outputs": [],
   "source": [
    "#########    With specific ID     ########\n",
    "\n",
    "curl -XPUT 'localhost:9200/customer/external/1?pretty&pretty' -H 'Content-Type: application/json' -d'\n",
    "{\n",
    "  \"name\": \"Panos Sideris\", \"address\": \"London 101\"\n",
    "}'\n",
    "\n",
    "#######     Random generated ID    #######\n",
    "\n",
    "curl -XPOST 'localhost:9200/customer/external?pretty&pretty' -H 'Content-Type: application/json' -d'\n",
    "{\n",
    "  \"name\": \"Donald Duck\", \"address\": \"Homeless\"\n",
    "}'\n",
    "\n",
    "\n",
    "##########################################\n",
    "\n",
    "curl -XDELETE 'localhost:9200/customer/external/1?pretty&pretty'"
   ]
  },
  {
   "cell_type": "markdown",
   "metadata": {
    "deletable": true,
    "editable": true
   },
   "source": [
    "## Update Data to Index"
   ]
  },
  {
   "cell_type": "code",
   "execution_count": 46,
   "metadata": {
    "collapsed": true,
    "deletable": true,
    "editable": true
   },
   "outputs": [],
   "source": [
    "curl -XPOST 'localhost:9200/customer/external/1/_update?pretty&pretty' -H 'Content-Type: application/json' -d'\n",
    "{\n",
    "  \"doc\": { \"wife name\": \"Mary\" }\n",
    "}'\n",
    "\n",
    "\n",
    "##########################################\n",
    "\n",
    "curl -XPOST 'localhost:9200/customer/external/_bulk?pretty&pretty' -H 'Content-Type: application/json' -d'\n",
    "{\"index\":{\"_id\":\"1\"}}\n",
    "{\"name\": \"John Doe\" }\n",
    "{\"index\":{\"_id\":\"2\"}}\n",
    "{\"name\": \"Jane Doe\" }'\n",
    "\n",
    "\n",
    "#########################################\n",
    "\n",
    "curl -XPOST 'localhost:9200/customer/external/_bulk?pretty&pretty' -H 'Content-Type: application/json' -d'\n",
    "{\"update\":{\"_id\":\"1\"}}\n",
    "{\"doc\": { \"name\": \"John Doe becomes Jane Doe\" } }\n",
    "{\"delete\":{\"_id\":\"2\"}}'"
   ]
  },
  {
   "cell_type": "markdown",
   "metadata": {
    "deletable": true,
    "editable": true
   },
   "source": [
    "## Import Data"
   ]
  },
  {
   "cell_type": "code",
   "execution_count": null,
   "metadata": {
    "collapsed": true,
    "deletable": true,
    "editable": true
   },
   "outputs": [],
   "source": [
    "curl -H \"Content-Type: application/json\" -XPOST 'localhost:9200/bank/account/_bulk?pretty&refresh' --data-binary \"@accounts.json\""
   ]
  },
  {
   "cell_type": "markdown",
   "metadata": {
    "deletable": true,
    "editable": true
   },
   "source": [
    "# SEARCH"
   ]
  },
  {
   "cell_type": "markdown",
   "metadata": {
    "deletable": true,
    "editable": true
   },
   "source": [
    "### Search Data"
   ]
  },
  {
   "cell_type": "code",
   "execution_count": 48,
   "metadata": {
    "collapsed": true,
    "deletable": true,
    "editable": true
   },
   "outputs": [],
   "source": [
    "curl -XGET 'localhost:9200/bank/_search?q=*&sort=account_number:asc&pretty&pretty'\n",
    "\n",
    "\n",
    "########################################\n",
    "\n",
    "curl -XGET 'localhost:9200/bank/_search?pretty' -H 'Content-Type: application/json' -d'\n",
    "{\n",
    "  \"query\": { \"match_all\": {} },\n",
    "  \"sort\": [\n",
    "    { \"account_number\": \"asc\" }\n",
    "  ]\n",
    "}'"
   ]
  },
  {
   "cell_type": "markdown",
   "metadata": {
    "deletable": true,
    "editable": true
   },
   "source": [
    "### Search with \"Select From\""
   ]
  },
  {
   "cell_type": "code",
   "execution_count": null,
   "metadata": {
    "collapsed": true,
    "deletable": true,
    "editable": true
   },
   "outputs": [],
   "source": [
    "curl -XGET 'localhost:9200/bank/_search?pretty' -H 'Content-Type: application/json' -d'\n",
    "{ \n",
    "  \"query\": { \"match_all\": {} },\n",
    "  \"_source\": [\"account_number\", \"balance\"]\n",
    "}'"
   ]
  },
  {
   "cell_type": "markdown",
   "metadata": {
    "deletable": true,
    "editable": true
   },
   "source": [
    "### Search with Boolean AND"
   ]
  },
  {
   "cell_type": "code",
   "execution_count": 1,
   "metadata": {
    "collapsed": true,
    "deletable": true,
    "editable": true
   },
   "outputs": [],
   "source": [
    "curl -XGET 'localhost:9200/bank/_search?pretty' -H 'Content-Type: application/json' -d'\n",
    "{\n",
    "  \"query\": {\n",
    "    \"bool\": {\n",
    "      \"must\": [\n",
    "        { \"match\": { \"address\": \"mill\" } },\n",
    "        { \"match\": { \"address\": \"lane\" } }\n",
    "      ]\n",
    "    }\n",
    "  }\n",
    "}'"
   ]
  },
  {
   "cell_type": "markdown",
   "metadata": {
    "deletable": true,
    "editable": true
   },
   "source": [
    "### Search with Boolean OR"
   ]
  },
  {
   "cell_type": "code",
   "execution_count": 1,
   "metadata": {
    "collapsed": true,
    "deletable": true,
    "editable": true
   },
   "outputs": [],
   "source": [
    "curl -XGET 'localhost:9200/bank/_search?pretty' -H 'Content-Type: application/json' -d'\n",
    "{\n",
    "  \"query\": {\n",
    "    \"bool\": {\n",
    "      \"should\": [\n",
    "        { \"match\": { \"address\": \"mill\" } },\n",
    "        { \"match\": { \"address\": \"lane\" } }\n",
    "      ]\n",
    "    }\n",
    "  }\n",
    "}'"
   ]
  },
  {
   "cell_type": "markdown",
   "metadata": {
    "deletable": true,
    "editable": true
   },
   "source": [
    "### Search with Boolean NOT"
   ]
  },
  {
   "cell_type": "code",
   "execution_count": 2,
   "metadata": {
    "collapsed": true,
    "deletable": true,
    "editable": true
   },
   "outputs": [],
   "source": [
    "curl -XGET 'localhost:9200/bank/_search?pretty' -H 'Content-Type: application/json' -d'\n",
    "{\n",
    "  \"query\": {\n",
    "    \"bool\": {\n",
    "      \"must\": [\n",
    "        { \"match\": { \"age\": \"40\" } }\n",
    "      ],\n",
    "      \"must_not\": [\n",
    "        { \"match\": { \"state\": \"ID\" } }\n",
    "      ]\n",
    "    }\n",
    "  }\n",
    "}'"
   ]
  },
  {
   "cell_type": "markdown",
   "metadata": {
    "collapsed": true,
    "deletable": true,
    "editable": true
   },
   "source": [
    "# FILTERS"
   ]
  },
  {
   "cell_type": "markdown",
   "metadata": {},
   "source": [
    "### Search With Filter"
   ]
  },
  {
   "cell_type": "code",
   "execution_count": null,
   "metadata": {
    "collapsed": true,
    "deletable": true,
    "editable": true
   },
   "outputs": [],
   "source": [
    "curl -XGET 'localhost:9200/bank/_search?pretty' -H 'Content-Type: application/json' -d'\n",
    "{\n",
    "  \"query\": {\n",
    "    \"bool\": {\n",
    "      \"must\": { \"match\": {\"fname\":\"Panos\"} },\n",
    "      \"filter\": {\n",
    "        \"range\": {\n",
    "          \"balance\": {\n",
    "            \"gte\": 20000 \n",
    "                        \n",
    "          }\n",
    "        }\n",
    "      }\n",
    "    }\n",
    "  }\n",
    "}'"
   ]
  },
  {
   "cell_type": "code",
   "execution_count": null,
   "metadata": {
    "collapsed": true
   },
   "outputs": [],
   "source": []
  }
 ],
 "metadata": {
  "kernelspec": {
   "display_name": "Python 2",
   "language": "python",
   "name": "python2"
  },
  "language_info": {
   "codemirror_mode": {
    "name": "ipython",
    "version": 2
   },
   "file_extension": ".py",
   "mimetype": "text/x-python",
   "name": "python",
   "nbconvert_exporter": "python",
   "pygments_lexer": "ipython2",
   "version": "2.7.12"
  }
 },
 "nbformat": 4,
 "nbformat_minor": 2
}
